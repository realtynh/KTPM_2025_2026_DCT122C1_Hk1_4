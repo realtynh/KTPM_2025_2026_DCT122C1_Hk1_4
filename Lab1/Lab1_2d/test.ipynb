{
 "cells": [
  {
   "cell_type": "code",
   "execution_count": 1,
   "id": "d69ebef2-8435-47b9-871e-7710a923462c",
   "metadata": {},
   "outputs": [
    {
     "name": "stdout",
     "output_type": "stream",
     "text": [
      "Writing baid_t1.inp\n"
     ]
    }
   ],
   "source": [
    "%%writefile baid_t1.inp\n",
    "2\n"
   ]
  },
  {
   "cell_type": "code",
   "execution_count": 2,
   "id": "8877dbc1-93fb-4c9e-b3bc-5dbfbf4bd9f6",
   "metadata": {},
   "outputs": [
    {
     "name": "stdout",
     "output_type": "stream",
     "text": [
      "Writing baid_t2.inp\n"
     ]
    }
   ],
   "source": [
    "%%writefile baid_t2.inp\n",
    "0"
   ]
  },
  {
   "cell_type": "code",
   "execution_count": 3,
   "id": "f1dc299c-57b7-4a7b-ab00-6da82af3a32d",
   "metadata": {},
   "outputs": [
    {
     "name": "stdout",
     "output_type": "stream",
     "text": [
      "Writing baid_t3.inp\n"
     ]
    }
   ],
   "source": [
    "%%writefile baid_t3.inp\n",
    "-1"
   ]
  },
  {
   "cell_type": "code",
   "execution_count": 6,
   "id": "3195189f-7a71-4337-ad6a-784bd6c172cf",
   "metadata": {},
   "outputs": [
    {
     "name": "stdout",
     "output_type": "stream",
     "text": [
      "Expected: 4\n",
      "4\n",
      "Expected: error!!\n",
      "0\n",
      "Expected: error!!\n",
      "-2\n"
     ]
    }
   ],
   "source": [
    "!g++ baid.cpp -o baid\n",
    "!./baid <baid_t1.inp >out1.txt\n",
    "!echo \"Expected: 4\"\n",
    "!cat out1.txt\n",
    "!./baid <baid_t2.inp >out2.txt\n",
    "!echo \"Expected: error!!\"\n",
    "!cat out2.txt\n",
    "!./baid <baid_t3.inp >out3.txt\n",
    "!echo \"Expected: error!!\"\n",
    "!cat out3.txt"
   ]
  },
  {
   "cell_type": "code",
   "execution_count": null,
   "id": "a3c86f97-c1dd-4931-baaa-cab3d04118e5",
   "metadata": {},
   "outputs": [],
   "source": []
  }
 ],
 "metadata": {
  "kernelspec": {
   "display_name": "Python 3 (ipykernel)",
   "language": "python",
   "name": "python3"
  },
  "language_info": {
   "codemirror_mode": {
    "name": "ipython",
    "version": 3
   },
   "file_extension": ".py",
   "mimetype": "text/x-python",
   "name": "python",
   "nbconvert_exporter": "python",
   "pygments_lexer": "ipython3",
   "version": "3.13.7"
  }
 },
 "nbformat": 4,
 "nbformat_minor": 5
}
