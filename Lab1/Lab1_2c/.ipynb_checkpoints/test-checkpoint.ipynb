{
 "cells": [
  {
   "cell_type": "code",
   "execution_count": 1,
   "id": "68d3cd9e-f7d1-4ecc-9dec-b2e38b1401f9",
   "metadata": {},
   "outputs": [
    {
     "name": "stdout",
     "output_type": "stream",
     "text": [
      "Writing baic_t1.inp\n"
     ]
    }
   ],
   "source": [
    "%%writefile baic_t1.inp\n",
    "1"
   ]
  },
  {
   "cell_type": "code",
   "execution_count": 2,
   "id": "c78ce32d-3616-4378-b1e9-5aeb94f6eecf",
   "metadata": {},
   "outputs": [
    {
     "name": "stdout",
     "output_type": "stream",
     "text": [
      "Writing baic_t2.inp\n"
     ]
    }
   ],
   "source": [
    "%%writefile baic_t2.inp\n",
    "10"
   ]
  },
  {
   "cell_type": "code",
   "execution_count": 3,
   "id": "ab01138a-d5aa-4c3f-ae23-7bb479c85ba3",
   "metadata": {},
   "outputs": [
    {
     "name": "stdout",
     "output_type": "stream",
     "text": [
      "Writing baic_t3.inp\n"
     ]
    }
   ],
   "source": [
    "%%writefile baic_t3.inp\n",
    "15"
   ]
  },
  {
   "cell_type": "code",
   "execution_count": 4,
   "id": "a71ecadf-ab32-49c2-8ae7-9c7dce5285b3",
   "metadata": {},
   "outputs": [
    {
     "name": "stdout",
     "output_type": "stream",
     "text": [
      "Expected: 2\n",
      "2\n",
      "Expected: 20\n",
      "20\n",
      "Expected: 30\n",
      "30\n"
     ]
    }
   ],
   "source": [
    "!g++ baic.cpp -o baic\n",
    "!./baic <baic_t1.inp >out1.txt\n",
    "!echo \"Expected: 2\"\n",
    "!cat out1.txt\n",
    "!./baic <baic_t2.inp >out2.txt\n",
    "!echo \"Expected: 20\"\n",
    "!cat out2.txt\n",
    "!./baic <baic_t3.inp >out3.txt\n",
    "!echo \"Expected: 30\"\n",
    "!cat out3.txt"
   ]
  },
  {
   "cell_type": "code",
   "execution_count": null,
   "id": "830259e3-aa07-4f2b-b8f4-647b64b12f5f",
   "metadata": {},
   "outputs": [],
   "source": []
  }
 ],
 "metadata": {
  "kernelspec": {
   "display_name": "Python 3 (ipykernel)",
   "language": "python",
   "name": "python3"
  },
  "language_info": {
   "codemirror_mode": {
    "name": "ipython",
    "version": 3
   },
   "file_extension": ".py",
   "mimetype": "text/x-python",
   "name": "python",
   "nbconvert_exporter": "python",
   "pygments_lexer": "ipython3",
   "version": "3.13.7"
  }
 },
 "nbformat": 4,
 "nbformat_minor": 5
}
