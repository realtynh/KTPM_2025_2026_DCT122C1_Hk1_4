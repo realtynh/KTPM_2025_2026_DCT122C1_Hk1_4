{
 "cells": [
  {
   "cell_type": "code",
   "execution_count": 1,
   "id": "290b0014-c41b-496d-9fa1-14b7b10eda9c",
   "metadata": {},
   "outputs": [
    {
     "name": "stdout",
     "output_type": "stream",
     "text": [
      "Writing baia_t1.inp\n"
     ]
    }
   ],
   "source": [
    "%%writefile baia_t1.inp\n",
    "15"
   ]
  },
  {
   "cell_type": "code",
   "execution_count": 2,
   "id": "990eaba6-504a-4d69-a520-0ebe87e40329",
   "metadata": {},
   "outputs": [
    {
     "name": "stdout",
     "output_type": "stream",
     "text": [
      "Writing baia_t2.inp\n"
     ]
    }
   ],
   "source": [
    "%%writefile baia_t2.inp\n",
    "10"
   ]
  },
  {
   "cell_type": "code",
   "execution_count": 3,
   "id": "44f05a83-5db2-40f0-8bed-470430945048",
   "metadata": {},
   "outputs": [
    {
     "name": "stdout",
     "output_type": "stream",
     "text": [
      "Writing baia_t3.inp\n"
     ]
    }
   ],
   "source": [
    "%%writefile baia_t3.inp\n",
    "9"
   ]
  },
  {
   "cell_type": "code",
   "execution_count": 4,
   "id": "044ba232-0926-4ec9-90b0-e307e619c33a",
   "metadata": {},
   "outputs": [
    {
     "name": "stdout",
     "output_type": "stream",
     "text": [
      "Expected: 30\n",
      "30\n",
      "Expected: -10\n",
      "-10\n",
      "Expected: -9\n",
      "-9\n"
     ]
    }
   ],
   "source": [
    "!g++ baia.cpp -o baia\n",
    "!./baia <baia_t1.inp >out1.txt\n",
    "!echo \"Expected: 30\"\n",
    "!cat out1.txt\n",
    "!echo \"Expected: -10\"\n",
    "!./baia <baia_t2.inp >out2.txt\n",
    "!cat out2.txt\n",
    "!echo \"Expected: -9\"\n",
    "!./baia <baia_t3.inp >out3.txt\n",
    "!cat out3.txt"
   ]
  },
  {
   "cell_type": "code",
   "execution_count": null,
   "id": "4dd39239-2c05-4897-b4ab-4906787a4b86",
   "metadata": {},
   "outputs": [],
   "source": []
  }
 ],
 "metadata": {
  "kernelspec": {
   "display_name": "Python 3 (ipykernel)",
   "language": "python",
   "name": "python3"
  },
  "language_info": {
   "codemirror_mode": {
    "name": "ipython",
    "version": 3
   },
   "file_extension": ".py",
   "mimetype": "text/x-python",
   "name": "python",
   "nbconvert_exporter": "python",
   "pygments_lexer": "ipython3",
   "version": "3.13.7"
  }
 },
 "nbformat": 4,
 "nbformat_minor": 5
}
