{
 "cells": [
  {
   "cell_type": "code",
   "execution_count": 1,
   "id": "66d2cbae-9b19-4087-8763-c9eb8389cdf3",
   "metadata": {},
   "outputs": [
    {
     "name": "stdout",
     "output_type": "stream",
     "text": [
      "Writing bai3_t1.inp\n"
     ]
    }
   ],
   "source": [
    "%%writefile bai3_t1.inp\n",
    "0 0 0\n"
   ]
  },
  {
   "cell_type": "code",
   "execution_count": 17,
   "id": "b06f5a58-8ea8-4056-a805-fea39a85944d",
   "metadata": {},
   "outputs": [
    {
     "name": "stdout",
     "output_type": "stream",
     "text": [
      "Overwriting bai3_t2.inp\n"
     ]
    }
   ],
   "source": [
    "%%writefile bai3_t2.inp\n",
    "0 0 5"
   ]
  },
  {
   "cell_type": "code",
   "execution_count": 18,
   "id": "d36d5179-7151-4791-b001-011664728091",
   "metadata": {},
   "outputs": [
    {
     "name": "stdout",
     "output_type": "stream",
     "text": [
      "Overwriting bai3_t3.inp\n"
     ]
    }
   ],
   "source": [
    "%%writefile bai3_t3.inp\n",
    "0 1 -4"
   ]
  },
  {
   "cell_type": "code",
   "execution_count": 19,
   "id": "652946c8-12f4-4652-835e-fcbcad3f1038",
   "metadata": {},
   "outputs": [
    {
     "name": "stdout",
     "output_type": "stream",
     "text": [
      "Overwriting bai3_t4.inp\n"
     ]
    }
   ],
   "source": [
    "%%writefile bai3_t4.inp\n",
    "1 0 -1"
   ]
  },
  {
   "cell_type": "code",
   "execution_count": 20,
   "id": "0a6f731e-b3c7-4e1f-b9d3-310b48624627",
   "metadata": {},
   "outputs": [
    {
     "name": "stdout",
     "output_type": "stream",
     "text": [
      "Overwriting bai3_t5.inp\n"
     ]
    }
   ],
   "source": [
    "%%writefile bai3_t5.inp\n",
    "1 -5 4"
   ]
  },
  {
   "cell_type": "code",
   "execution_count": 21,
   "id": "a76ea9f0-d5f4-4f1b-b725-a2f8d61108ed",
   "metadata": {},
   "outputs": [
    {
     "name": "stdout",
     "output_type": "stream",
     "text": [
      "Overwriting bai3_t6.inp\n"
     ]
    }
   ],
   "source": [
    "%%writefile bai3_t6.inp\n",
    "1 2 5"
   ]
  },
  {
   "cell_type": "code",
   "execution_count": 25,
   "id": "aefe3d32-a304-426b-b214-917878cb3d8a",
   "metadata": {},
   "outputs": [
    {
     "name": "stdout",
     "output_type": "stream",
     "text": [
      "Overwriting bai3_t7.inp\n"
     ]
    }
   ],
   "source": [
    "%%writefile bai3_t7.inp\n",
    "1 -2 1"
   ]
  },
  {
   "cell_type": "code",
   "execution_count": 26,
   "id": "2da00c13-b211-4e64-a05a-02a08d720ed0",
   "metadata": {},
   "outputs": [
    {
     "name": "stdout",
     "output_type": "stream",
     "text": [
      "Overwriting bai3_t8.inp\n"
     ]
    }
   ],
   "source": [
    "%%writefile bai3_t8.inp\n",
    "1 0 0"
   ]
  },
  {
   "cell_type": "code",
   "execution_count": 27,
   "id": "3b77cad8-88d0-488e-88cd-709c01fe91ef",
   "metadata": {},
   "outputs": [
    {
     "name": "stdout",
     "output_type": "stream",
     "text": [
      "Expected TC1: Infinite solutions \n",
      " Infinite solutions.\n",
      "Expected TC2: No solution\n",
      "No solution.\n",
      "Expected TC3: -2 +2 \n",
      " The equation has 2 real solution(s): 2 -2 \n",
      "Expected TC4: -1 +1 Nghiem Kep\n",
      " The equation has 2 real solution(s): 1 -1 \n",
      "Expected TC5: 2 -2 1 -1 \n",
      " The equation has 4 real solution(s): 2 -2 1 -1 \n",
      "Expected TC6: No solution\n",
      "No solution.\n",
      "Expected TC7: +1 -1 nghiệm kép trùng y\n",
      " The equation has 2 real solution(s): 1 -1 \n",
      "Expected TC8: 0 (nghiệm duy nhất)\n",
      " The equation has 2 real solution(s): 0 -0 \n"
     ]
    }
   ],
   "source": [
    "!g++ bai3.cpp -o bai3\n",
    "!./bai3 <bai3_t1.inp >out1.txt\n",
    "!echo \"Expected TC1: Infinite solutions \"\n",
    "!cat out1.txt\n",
    "!./bai3 <bai3_t2.inp >out2.txt\n",
    "!echo \"Expected TC2: No solution\"\n",
    "!cat out2.txt\n",
    "!./bai3 <bai3_t3.inp >out3.txt\n",
    "!echo \"Expected TC3: -2 +2 \"\n",
    "!cat out3.txt\n",
    "!./bai3 <bai3_t4.inp >out4.txt\n",
    "!echo \"Expected TC4: -1 +1 Nghiem Kep\"\n",
    "!cat out4.txt\n",
    "!./bai3 <bai3_t5.inp >out5.txt\n",
    "!echo \"Expected TC5: 2 -2 1 -1 \"\n",
    "!cat out5.txt\n",
    "!./bai3 <bai3_t6.inp >out6.txt\n",
    "!echo \"Expected TC6: No solution\"\n",
    "!cat out6.txt\n",
    "!./bai3 <bai3_t7.inp >out7.txt\n",
    "!echo \"Expected TC7: +1 -1 nghiệm kép trùng y\"\n",
    "!cat out7.txt\n",
    "!./bai3 <bai3_t8.inp >out8.txt\n",
    "!echo \"Expected TC8: 0 (nghiệm duy nhất)\"\n",
    "!cat out8.txt\n",
    "    "
   ]
  },
  {
   "cell_type": "code",
   "execution_count": null,
   "id": "5a1a708a-8aca-49cd-8843-f38b00caadcf",
   "metadata": {},
   "outputs": [],
   "source": []
  }
 ],
 "metadata": {
  "kernelspec": {
   "display_name": "Python 3 (ipykernel)",
   "language": "python",
   "name": "python3"
  },
  "language_info": {
   "codemirror_mode": {
    "name": "ipython",
    "version": 3
   },
   "file_extension": ".py",
   "mimetype": "text/x-python",
   "name": "python",
   "nbconvert_exporter": "python",
   "pygments_lexer": "ipython3",
   "version": "3.13.7"
  }
 },
 "nbformat": 4,
 "nbformat_minor": 5
}
