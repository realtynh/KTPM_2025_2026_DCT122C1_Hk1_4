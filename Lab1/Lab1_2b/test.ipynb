{
 "cells": [
  {
   "cell_type": "code",
   "execution_count": 1,
   "id": "d8897ebe-3b46-44c7-a2cf-10c05f556245",
   "metadata": {},
   "outputs": [
    {
     "name": "stdout",
     "output_type": "stream",
     "text": [
      "Writing baib_t1.inp\n"
     ]
    }
   ],
   "source": [
    "%%writefile baib_t1.inp\n",
    "15"
   ]
  },
  {
   "cell_type": "code",
   "execution_count": 2,
   "id": "3adc9957-123d-4e86-b55b-7b4132582833",
   "metadata": {},
   "outputs": [
    {
     "name": "stdout",
     "output_type": "stream",
     "text": [
      "Writing baib_t2.inp\n"
     ]
    }
   ],
   "source": [
    "%%writefile baib_t2.inp\n",
    "10"
   ]
  },
  {
   "cell_type": "code",
   "execution_count": 3,
   "id": "6a5a32ef-0d38-48a5-b460-a822951c9a16",
   "metadata": {},
   "outputs": [
    {
     "name": "stdout",
     "output_type": "stream",
     "text": [
      "Writing baib_t3.inp\n"
     ]
    }
   ],
   "source": [
    "%%writefile baib_t3.inp\n",
    "1"
   ]
  },
  {
   "cell_type": "code",
   "execution_count": 4,
   "id": "e96380d8-13df-45c8-9d77-52f4b871e01e",
   "metadata": {},
   "outputs": [
    {
     "name": "stdout",
     "output_type": "stream",
     "text": [
      "Writing baib_t4.inp\n"
     ]
    }
   ],
   "source": [
    "%%writefile baib_t4.inp\n",
    "0"
   ]
  },
  {
   "cell_type": "code",
   "execution_count": 5,
   "id": "c91b7399-daa8-47ed-a4da-0613a6c124a1",
   "metadata": {},
   "outputs": [
    {
     "name": "stdout",
     "output_type": "stream",
     "text": [
      "Writing baib_t5.inp\n"
     ]
    }
   ],
   "source": [
    "%%writefile baib_t5.inp\n",
    "-5"
   ]
  },
  {
   "cell_type": "code",
   "execution_count": 6,
   "id": "705ddad8-cda3-4759-b232-0e01672c0067",
   "metadata": {},
   "outputs": [
    {
     "name": "stdout",
     "output_type": "stream",
     "text": [
      "Expected: 30\n",
      "30\n",
      "Expected: -10\n",
      "-10\n",
      "Expected: -1\n",
      "-1\n",
      "Expected: 0\n",
      "0\n",
      "Expected: -10\n",
      "-10\n"
     ]
    }
   ],
   "source": [
    "!g++ baib.cpp -o baib\n",
    "!./baib <baib_t1.inp >out1.txt\n",
    "!echo \"Expected: 30\"\n",
    "!cat out1.txt\n",
    "!echo \"Expected: -10\"\n",
    "!./baib <baib_t2.inp >out2.txt\n",
    "!cat out2.txt\n",
    "!echo \"Expected: -1\"\n",
    "!./baib <baib_t3.inp >out3.txt\n",
    "!cat out3.txt\n",
    "!echo \"Expected: 0\"\n",
    "!./baib <baib_t4.inp >out4.txt\n",
    "!cat out4.txt\n",
    "!echo \"Expected: -10\"\n",
    "!./baib <baib_t5.inp >out5.txt\n",
    "!cat out5.txt"
   ]
  },
  {
   "cell_type": "code",
   "execution_count": null,
   "id": "2bb019e8-68b2-4c4b-85d4-d8cb536cc01d",
   "metadata": {},
   "outputs": [],
   "source": []
  }
 ],
 "metadata": {
  "kernelspec": {
   "display_name": "Python 3 (ipykernel)",
   "language": "python",
   "name": "python3"
  },
  "language_info": {
   "codemirror_mode": {
    "name": "ipython",
    "version": 3
   },
   "file_extension": ".py",
   "mimetype": "text/x-python",
   "name": "python",
   "nbconvert_exporter": "python",
   "pygments_lexer": "ipython3",
   "version": "3.13.7"
  }
 },
 "nbformat": 4,
 "nbformat_minor": 5
}
